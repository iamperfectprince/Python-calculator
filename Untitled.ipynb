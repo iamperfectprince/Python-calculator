{
 "cells": [
  {
   "cell_type": "code",
   "execution_count": 7,
   "id": "7f2cd5be",
   "metadata": {},
   "outputs": [
    {
     "name": "stdout",
     "output_type": "stream",
     "text": [
      "Enter 1 for addition\n",
      "Enter 2 for substraction\n",
      "Enter 3 for multiply\n",
      "Enter 4 for devision\n",
      "Enter a 1/2/3/4 calculation50\n",
      "Enter Number 1 155\n",
      "Enter Number 2 25\n",
      "Invalid Value \n"
     ]
    }
   ],
   "source": [
    "# Defining Arithmatic operation \n",
    "\n",
    "def addition(x,y):\n",
    "    return x+y\n",
    "def substraction(x,y):\n",
    "    return x-y\n",
    "def multiply(x,y):\n",
    "    return x*y\n",
    "def devision(x,y):\n",
    "    return x/y\n",
    "\n",
    "# Defining main function\n",
    " \n",
    "def main():\n",
    "    print(\"Enter 1 for addition\")\n",
    "    print(\"Enter 2 for substraction\")\n",
    "    print(\"Enter 3 for multiply\")\n",
    "    print(\"Enter 4 for devision\")\n",
    "    \n",
    "    choice = input(\"Enter a 1/2/3/4 calculation\")\n",
    "    \n",
    "    num1 = float(input(\"Enter Number 1 \"))\n",
    "    num2 = float(input(\"Enter Number 2 \"))\n",
    "    \n",
    "    if choice == \"1\":\n",
    "        result = addition(num1,num2)\n",
    "    elif choice == \"2\":\n",
    "        result = substraction(num1, num2)\n",
    "    elif choice == \"3\":\n",
    "        result = multiply(num1, num2)\n",
    "    elif choice == \"4\":\n",
    "        result = devision(num1, num2)\n",
    "    else:\n",
    "        print(\"Invalid Value \")\n",
    "        return\n",
    "\n",
    "    print(\"your Result is \", result)\n",
    "\n",
    "if __name__ == \"__main__\":\n",
    "    main()"
   ]
  },
  {
   "cell_type": "code",
   "execution_count": null,
   "id": "889ca45a",
   "metadata": {},
   "outputs": [],
   "source": []
  }
 ],
 "metadata": {
  "kernelspec": {
   "display_name": "Python 3 (ipykernel)",
   "language": "python",
   "name": "python3"
  },
  "language_info": {
   "codemirror_mode": {
    "name": "ipython",
    "version": 3
   },
   "file_extension": ".py",
   "mimetype": "text/x-python",
   "name": "python",
   "nbconvert_exporter": "python",
   "pygments_lexer": "ipython3",
   "version": "3.10.9"
  }
 },
 "nbformat": 4,
 "nbformat_minor": 5
}
